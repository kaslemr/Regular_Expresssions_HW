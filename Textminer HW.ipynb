{
 "cells": [
  {
   "cell_type": "code",
   "execution_count": 2,
   "metadata": {
    "collapsed": false
   },
   "outputs": [],
   "source": [
    "import re"
   ]
  },
  {
   "cell_type": "code",
   "execution_count": 13,
   "metadata": {
    "collapsed": false
   },
   "outputs": [],
   "source": [
    "text = \"\"\"Dear Mr. Davis,\n",
    "\n",
    "I got to know of your company through our mutual friend Fiona Williams and the\n",
    "training you offer to graduate students in Advertising.\n",
    "\n",
    "I am a graduate student of Mass Communications with specialization in\n",
    "Advertising.  I am currently pursuing the last year of my course.\n",
    "I would very much like to see firsthand the work environment in an advertising\n",
    "agency.\n",
    "\n",
    "If you would like a reference, my advisor can be reached at (454) 999-1212.\n",
    "\n",
    "You can contact me at (919) 123-4569 at your convenience.\"\"\"\n"
   ]
  },
  {
   "cell_type": "code",
   "execution_count": 22,
   "metadata": {
    "collapsed": false
   },
   "outputs": [],
   "source": [
    "def phone_numbers(x):\n",
    "    return re.findall(r\"\\(\\d{3}\\) \\d{3}\\-\\d{4}\", x)\n",
    "\n"
   ]
  },
  {
   "cell_type": "code",
   "execution_count": 23,
   "metadata": {
    "collapsed": false
   },
   "outputs": [
    {
     "data": {
      "text/plain": [
       "['(454) 999-1212', '(919) 123-4569']"
      ]
     },
     "execution_count": 23,
     "metadata": {},
     "output_type": "execute_result"
    }
   ],
   "source": [
    "phone_numbers(text)"
   ]
  },
  {
   "cell_type": "code",
   "execution_count": 24,
   "metadata": {
    "collapsed": true
   },
   "outputs": [],
   "source": [
    "#@params(\"input,expected\", [\n",
    "    #(\"hello\", ['hello']),\n",
    "    #(\"hello world\", ['hello', 'world']),\n",
    "    #(\"raggggg hammer dog\", ['raggggg', 'hammer', 'dog']),\n",
    "    #(\"18-wheeler tarbox\", ['18-wheeler', 'tarbox']),\n",
    "    #(\"12\", None),"
   ]
  },
  {
   "cell_type": "code",
   "execution_count": 451,
   "metadata": {
    "collapsed": false
   },
   "outputs": [
    {
     "name": "stdout",
     "output_type": "stream",
     "text": [
      "None\n"
     ]
    }
   ],
   "source": [
    "wordsss = [\"hello\", \"hello world\", \"raggggg hammer dog\", \"18-wheeler tarbox\", \"12\"]\n",
    "word1 = \"hello\"\n",
    "\n",
    "#works for everything other than 18-wheeler\n",
    "#match = re.findall(r\"[\\w+\\s?][\\w+\\s?]\\w+\", \"raggggg hammer dog\")\n",
    "#print(match)\n",
    "#for x in word1:\n",
    "    #print(re.findall(r\"\\w+\", word1))\n",
    "\n",
    "def words(text):\n",
    "    match = re.findall(r\"\\d*\\-*\\b[a-z]+\\b\", text)\n",
    "    if match == []:\n",
    "        return None\n",
    "    return match\n",
    "\n",
    "print(words(\"12\"))"
   ]
  },
  {
   "cell_type": "code",
   "execution_count": null,
   "metadata": {
    "collapsed": true
   },
   "outputs": [],
   "source": []
  },
  {
   "cell_type": "code",
   "execution_count": 315,
   "metadata": {
    "collapsed": false
   },
   "outputs": [],
   "source": [
    "def words(text):\n",
    "    for word in text:\n",
    "        match = re.findall(r\"\\d*\\S*\\w+\", word)\n"
   ]
  },
  {
   "cell_type": "code",
   "execution_count": 228,
   "metadata": {
    "collapsed": false
   },
   "outputs": [
    {
     "name": "stdout",
     "output_type": "stream",
     "text": [
      "919-555-1212\n",
      "(919) 555-1212\n",
      "9195551212\n",
      "919.555.1212\n",
      "919 555-1212\n",
      "y\n"
     ]
    }
   ],
   "source": [
    "#@params(\"input,expected\", [\n",
    "    #(\"919-555-1212\", {\"area_code\": \"919\", \"number\": \"555-1212\"}),\n",
    "    #(\"(919) 555-1212\", {\"area_code\": \"919\", \"number\": \"555-1212\"}),\n",
    "    #(\"9195551212\", {\"area_code\": \"919\", \"number\": \"555-1212\"}),\n",
    "    #(\"919.555.1212\", {\"area_code\": \"919\", \"number\": \"555-1212\"}),\n",
    "    #(\"919 555-1212\", {\"area_code\": \"919\", \"number\": \"555-1212\"}),\n",
    "    #(\"555-121\", None)\n",
    "\n",
    "#def phone_number(numbers):\n",
    "\n",
    "numbers = [\"919-555-1212\", \"(919) 555-1212\", \"9195551212\", \"919.555.1212\", \"919 555-1212\", \"919 555-1212\", \"555-1212\"]\n",
    "cleaned = []\n",
    "for number in numbers:\n",
    "    match = re.search(r\"(\\(?\\d{3})([-). ]*\\d{,7}[-.]?\\d{4})\", number)\n",
    "    #print(\"area_code: {}, number: {}\".format(,match[1]))\n",
    "    if match:\n",
    "        print(match.group())\n",
    "    else:\n",
    "        print(\"y\")\n",
    "\n",
    "    "
   ]
  },
  {
   "cell_type": "code",
   "execution_count": 677,
   "metadata": {
    "collapsed": true
   },
   "outputs": [],
   "source": [
    "def phone_number(number):\n",
    "    try:\n",
    "        x = re.findall(r\"\\(?(\\d{3})\\)?\\s?.?-?(\\d{3})-?.?(\\d{4})\", number)\n",
    "        d = {}\n",
    "        d[\"area code\"] = x[0][0] \n",
    "        d[\"number\"] = \"{}-{}\".format(x[0][1],x[0][2])\n",
    "        return d\n",
    "    except TypeError:\n",
    "        return None"
   ]
  },
  {
   "cell_type": "raw",
   "metadata": {},
   "source": [
    "@params(\"input,expected\", [\n",
    "    (\"$4\", {\"currency\": \"$\", \"amount\": 4.0}),\n",
    "    (\"$19\", {\"currency\": \"$\", \"amount\": 19.0}),\n",
    "    (\"$19.00\", {\"currency\": \"$\", \"amount\": 19.0}),\n",
    "    (\"$3.58\", {\"currency\": \"$\", \"amount\": 3.58}),\n",
    "    (\"$1000\", {\"currency\": \"$\", \"amount\": 1000.0}),\n",
    "    (\"$1000.00\", {\"currency\": \"$\", \"amount\": 1000.0}),\n",
    "    (\"$1,000\", {\"currency\": \"$\", \"amount\": 1000.0}),\n",
    "    (\"$1,000.00\", {\"currency\": \"$\", \"amount\": 1000.0}),\n",
    "    (\"$5,555,555\", {\"currency\": \"$\", \"amount\": 5555555.0}),\n",
    "    (\"$5,555,555.55\", {\"currency\": \"$\", \"amount\": 5555555.55}),\n",
    "    (\"$45,555,555.55\", {\"currency\": \"$\", \"amount\": 45555555.55}),\n",
    "    (\"$456,555,555.55\", {\"currency\": \"$\", \"amount\": 456555555.55}),\n",
    "    (\"$1234567.89\", {\"currency\": \"$\", \"amount\": 1234567.89}),\n",
    "    (\"$12,34\", None),\n",
    "    (\"$1234.9\", None),\n",
    "    (\"$1234.999\", None),\n",
    "    (\"$\", None),\n",
    "    (\"31\", None),\n",
    "    (\"$$31\", None),\n"
   ]
  },
  {
   "cell_type": "code",
   "execution_count": 700,
   "metadata": {
    "collapsed": false
   },
   "outputs": [
    {
     "data": {
      "text/plain": [
       "[('$', '1,00')]"
      ]
     },
     "execution_count": 700,
     "metadata": {},
     "output_type": "execute_result"
    }
   ],
   "source": [
    "re.findall(r\"(\\$)(\\d+.?\\d?\\d?)\", \"$3\") # works for up to commas"
   ]
  },
  {
   "cell_type": "code",
   "execution_count": 725,
   "metadata": {
    "collapsed": false
   },
   "outputs": [
    {
     "data": {
      "text/plain": [
       "[('$', '1234567', '.89', '', '')]"
      ]
     },
     "execution_count": 725,
     "metadata": {},
     "output_type": "execute_result"
    }
   ],
   "source": [
    "re.findall(r\"(\\$)(.?\\d*)\\,?(.?\\d?\\d?)\\,?(.?\\d?\\d?)\\,?(.?\\d?\\d?)\", \"$1234567.89\") # gives extra spaces at end"
   ]
  },
  {
   "cell_type": "code",
   "execution_count": 731,
   "metadata": {
    "collapsed": false
   },
   "outputs": [
    {
     "data": {
      "text/plain": [
       "[('$', '45', '555', '555', '.55')]"
      ]
     },
     "execution_count": 731,
     "metadata": {},
     "output_type": "execute_result"
    }
   ],
   "source": [
    "re.findall(r\"(\\$)(.?\\d*)\\,?(.?\\d?\\d?)\\,?(.?\\d?\\d?)?\\,?(.?\\d?\\d?)\", \"$45,555,555.55\")"
   ]
  },
  {
   "cell_type": "code",
   "execution_count": 812,
   "metadata": {
    "collapsed": false
   },
   "outputs": [
    {
     "data": {
      "text/plain": [
       "[('$', '433')]"
      ]
     },
     "execution_count": 812,
     "metadata": {},
     "output_type": "execute_result"
    }
   ],
   "source": [
    "x = re.findall(r\"(\\$)(.?\\d*)\\,?(.?\\d?\\d?)\\,?(.?\\d?\\d?)?\\,?(.?\\d?\\d?)\", \"$45,555,555.55\")\n",
    "re.findall(r\"(\\$)(.?\\d{,20})\\,?\", \"$433,33333\")\n"
   ]
  },
  {
   "cell_type": "code",
   "execution_count": 757,
   "metadata": {
    "collapsed": false
   },
   "outputs": [
    {
     "data": {
      "text/plain": [
       "{'currency': '$'}"
      ]
     },
     "execution_count": 757,
     "metadata": {},
     "output_type": "execute_result"
    }
   ],
   "source": [
    "y = {}\n",
    "y[\"currency\"] = x[0][0] "
   ]
  },
  {
   "cell_type": "raw",
   "metadata": {},
   "source": [
    "(\"63936\", {\"zip\": \"63936\", \"plus4\": None}),\n",
    "(\"50583\", {\"zip\": \"50583\", \"plus4\": None}),\n",
    "(\"06399\", {\"zip\": \"06399\", \"plus4\": None}),\n",
    "(\"26433-3235\", {\"zip\": \"26433\", \"plus4\": \"3235\"}),\n",
    "(\"64100-6308\", {\"zip\": \"64100\", \"plus4\": \"6308\"}),\n",
    "(\"7952\", None),\n",
    "(\"115761\", None),\n",
    "(\"60377-331\", None),\n",
    "(\"8029-3924\", None),"
   ]
  },
  {
   "cell_type": "code",
   "execution_count": 792,
   "metadata": {
    "collapsed": false
   },
   "outputs": [
    {
     "data": {
      "text/plain": [
       "['63936']"
      ]
     },
     "execution_count": 792,
     "metadata": {},
     "output_type": "execute_result"
    }
   ],
   "source": [
    "re.findall(r\"\\d+\", \"63936\")"
   ]
  },
  {
   "cell_type": "raw",
   "metadata": {},
   "source": [
    "def test_binary_numbers():\n",
    "    assert v.binary(\"0\")\n",
    "    assert v.binary(\"1\")\n",
    "    assert v.binary(\"01\")\n",
    "    assert v.binary(\"10\")\n",
    "    assert v.binary(\"1110100010\")\n",
    "    assert not v.binary(\"\")\n",
    "    assert not v.binary(\"911\")"
   ]
  },
  {
   "cell_type": "code",
   "execution_count": 895,
   "metadata": {
    "collapsed": false
   },
   "outputs": [
    {
     "data": {
      "text/plain": [
       "<_sre.SRE_Match object; span=(0, 8), match='00111110'>"
      ]
     },
     "execution_count": 895,
     "metadata": {},
     "output_type": "execute_result"
    }
   ],
   "source": [
    "#re.search(r\"0|1\", \"1\")\n",
    "def binary(x):\n",
    "    x = re.search(r'\\b[0|1]+0$\\b', x)\n",
    "    return x\n",
    "binary(\"00111110\")"
   ]
  },
  {
   "cell_type": "code",
   "execution_count": 884,
   "metadata": {
    "collapsed": false
   },
   "outputs": [
    {
     "data": {
      "text/plain": [
       "<_sre.SRE_Match object; span=(4, 5), match='0'>"
      ]
     },
     "execution_count": 884,
     "metadata": {},
     "output_type": "execute_result"
    }
   ],
   "source": [
    "#def test_binary_even():\n",
    "    #\"\"\"String must be a binary number and be even.\"\"\"\n",
    "\n",
    "    #assert v.binary_even(\"10\")\n",
    "    #assert v.binary_even(\"1110100010\")\n",
    "    #assert not v.binary_even(\"1011\")\n",
    "\n",
    "def binary(x):\n",
    "    x = re.search(r'0$', x)\n",
    "    return x\n",
    "binary(\"10000\")"
   ]
  },
  {
   "cell_type": "code",
   "execution_count": 913,
   "metadata": {
    "collapsed": false
   },
   "outputs": [
    {
     "data": {
      "text/plain": [
       "<_sre.SRE_Match object; span=(0, 10), match='aebA32343d'>"
      ]
     },
     "execution_count": 913,
     "metadata": {},
     "output_type": "execute_result"
    }
   ],
   "source": [
    "def hex(x):\n",
    "    x = re.search(r'\\b[A|B|C|D|E|F|0|1|2|3|4|5|6|7|8|9]+\\b', x, re.I)\n",
    "    return x\n",
    "binary(\"aebA32343d\")"
   ]
  },
  {
   "cell_type": "code",
   "execution_count": null,
   "metadata": {
    "collapsed": true
   },
   "outputs": [],
   "source": []
  }
 ],
 "metadata": {
  "kernelspec": {
   "display_name": "Python 3",
   "language": "python",
   "name": "python3"
  },
  "language_info": {
   "codemirror_mode": {
    "name": "ipython",
    "version": 3
   },
   "file_extension": ".py",
   "mimetype": "text/x-python",
   "name": "python",
   "nbconvert_exporter": "python",
   "pygments_lexer": "ipython3",
   "version": "3.5.0"
  }
 },
 "nbformat": 4,
 "nbformat_minor": 0
}
